{
 "cells": [
  {
   "cell_type": "code",
   "execution_count": null,
   "metadata": {},
   "outputs": [],
   "source": [
    "class Personage:\n",
    "\n",
    "    def __init__(self, personage_name):\n",
    "        self.name = personage_name\n",
    "        self.hp = 100\n",
    "        self.magic = 100\n",
    "        self.stamina = 100\n",
    "        self.physic_damage = 10\n",
    "        self.magic_damage = 5\n",
    "\n",
    "\n",
    "    def decrease_param(self, param, percent, value):\n",
    "        if value > 0 and percent > 0:\n",
    "            raise ValueError('Нельзя одновременно передавать и процент и скалярное значение.')\n",
    "        if not isinstance(value, (int, float)) or not isinstance(percent, (int, float)):\n",
    "            raise TypeError('Одно из значений percent или value не является числом.')\n",
    "\n",
    "        current_value = getattr(self, param)\n",
    "\n",
    "        if percent > 0:\n",
    "            current_value = current_value * (1 - percent / 100)\n",
    "        else:\n",
    "            current_value = current_value - value\n",
    "\n",
    "        self.param_update(param, current_value)\n",
    "\n",
    "    def param_update(self, param, new_value):\n",
    "        old_value = getattr(self, param)\n",
    "        setattr(self, param, new_value)\n",
    "\n",
    "        print('Параметр {} обновлён с {} на {}'.format(param, old_value, new_value))\n",
    "\n",
    "\n",
    "\n",
    "class Perk:\n",
    "\n",
    "    def __init__(self):\n",
    "        pass\n",
    "\n",
    "    def name(self, name):\n",
    "        self.name = name\n",
    "\n",
    "    def description(self, description):\n",
    "        self.description = description\n",
    "\n",
    "    def get_name(self):\n",
    "        return self.name\n",
    "    \n",
    "    def get_description(self):\n",
    "        return self.description\n",
    "    \n",
    "    def effect(self, param_name, value, is_persent=True):\n",
    "        "
   ]
  },
  {
   "cell_type": "code",
   "execution_count": 2,
   "metadata": {},
   "outputs": [
    {
     "data": {
      "text/plain": [
       "'Катя'"
      ]
     },
     "execution_count": 2,
     "metadata": {},
     "output_type": "execute_result"
    }
   ],
   "source": [
    "person1 = Personage('Катя')\n",
    "\n",
    "person1.name"
   ]
  },
  {
   "cell_type": "code",
   "execution_count": 3,
   "metadata": {},
   "outputs": [
    {
     "data": {
      "text/plain": [
       "100"
      ]
     },
     "execution_count": 3,
     "metadata": {},
     "output_type": "execute_result"
    }
   ],
   "source": [
    "person1.hp"
   ]
  },
  {
   "cell_type": "code",
   "execution_count": 4,
   "metadata": {},
   "outputs": [
    {
     "name": "stdout",
     "output_type": "stream",
     "text": [
      "Параметр hp обновлён с 100 на 90.0\n"
     ]
    }
   ],
   "source": [
    "person1.decrease_param('hp', 10, 0)"
   ]
  },
  {
   "cell_type": "code",
   "execution_count": null,
   "metadata": {},
   "outputs": [],
   "source": [
    "class Perk:\n",
    "\n",
    "    def __init__(self):\n",
    "        pass\n",
    "\n",
    "    def name(self, name):\n",
    "        self.name = name\n",
    "\n",
    "    def description(self, description):\n",
    "        self.description = description\n",
    "\n",
    "    def get_name(self):\n",
    "        return self.name\n",
    "    \n",
    "    def get_description(self):\n",
    "        return self.description\n",
    "    \n",
    "    def increase_param(self, param_name, value, is_persent=True):\n",
    "        "
   ]
  },
  {
   "cell_type": "code",
   "execution_count": 12,
   "metadata": {},
   "outputs": [],
   "source": [
    "perk1 = Perk()"
   ]
  },
  {
   "cell_type": "code",
   "execution_count": 13,
   "metadata": {},
   "outputs": [],
   "source": [
    "perk1.name('Усиление разума')\n",
    "\n",
    "perk1.description('На цель действует эффект, благодаря которому сопротивляемость разума различным воздействиям повышена. Все эффекты, имеющие влияние на разум ослаблены на 15%. Данное действие касается как положительных, так и негативных эффектов. Эффекты можно исключать из под воздейстия по выбору.')"
   ]
  },
  {
   "cell_type": "code",
   "execution_count": 14,
   "metadata": {},
   "outputs": [
    {
     "data": {
      "text/plain": [
       "'Усиление разума'"
      ]
     },
     "execution_count": 14,
     "metadata": {},
     "output_type": "execute_result"
    }
   ],
   "source": [
    "perk1.get_name()"
   ]
  },
  {
   "cell_type": "code",
   "execution_count": 15,
   "metadata": {},
   "outputs": [
    {
     "data": {
      "text/plain": [
       "'На цель действует эффект, благодаря которому сопротивляемость разума различным воздействиям повышена. Все эффекты, имеющие влияние на разум ослаблены на 15%. Данное действие касается как положительных, так и негативных эффектов. Эффекты можно исключать из под воздейстия по выбору.'"
      ]
     },
     "execution_count": 15,
     "metadata": {},
     "output_type": "execute_result"
    }
   ],
   "source": [
    "perk1.get_description()"
   ]
  },
  {
   "cell_type": "code",
   "execution_count": 45,
   "metadata": {},
   "outputs": [],
   "source": [
    "class Personage:\n",
    "    def __init__(self, personage_name):\n",
    "        self.name = personage_name\n",
    "        self.hp = 100\n",
    "        self.magic = 100\n",
    "        self.stamina = 100\n",
    "        self.physic_damage = 10\n",
    "        self.magic_damage = 5\n",
    "        self.can_used_perks = []  # Перки, которые можно активировать\n",
    "        self.active_perks = []    # Активные перки\n",
    "\n",
    "    def change_param(self, param, value=0, percent=0):\n",
    "        \"\"\"Обновляет параметр персонажа с учетом процента или абсолютного значения\"\"\"\n",
    "        if value != 0 and percent != 0:\n",
    "            raise ValueError('Нельзя одновременно передавать и процент и скалярное значение.')\n",
    "        if not isinstance(value, (int, float)) or not isinstance(percent, (int, float)):\n",
    "            raise TypeError('Одно из значений percent или value не является числом.')\n",
    "\n",
    "        current_value = getattr(self, param)\n",
    "\n",
    "        if percent != 0:\n",
    "            new_value = current_value * (1 + percent / 100)\n",
    "        else:\n",
    "            new_value = current_value + value\n",
    "\n",
    "        self.param_update(param, new_value)\n",
    "\n",
    "    def param_update(self, param, new_value):\n",
    "        \"\"\"Непосредственно обновляет параметр и выводит информацию об изменении\"\"\"\n",
    "        old_value = getattr(self, param)\n",
    "        setattr(self, param, new_value)\n",
    "        print(f'Параметр {param} обновлён с {old_value} на {new_value}')\n",
    "\n",
    "    def add_perk(self, perk):\n",
    "        \"\"\"Добавляет перк в список доступных перков\"\"\"\n",
    "        if not isinstance(perk, Perk):\n",
    "            raise TypeError(\"Можно добавлять только объекты класса Perk\")\n",
    "        self.can_used_perks.append(perk)\n",
    "        print(f\"Перк '{perk.get_name()}' добавлен в список доступных\")\n",
    "\n",
    "    def activate(self, perk):\n",
    "        \"\"\"Активирует перк, перемещая его в active_perks и применяя эффект\"\"\"\n",
    "        if perk not in self.can_used_perks:\n",
    "            raise ValueError(\"Этот перк не найден в списке доступных\")\n",
    "        \n",
    "        self.can_used_perks.remove(perk)\n",
    "        self.active_perks.append(perk)\n",
    "        perk.apply_effect(self)  # Применяем эффект перка\n",
    "        print(f\"Перк '{perk.get_name()}' активирован\")\n",
    "\n",
    "    def deactivate(self, perk):\n",
    "        \"\"\"Деактивирует перк, перемещая его обратно в can_used_perks и отменяя эффект\"\"\"\n",
    "        if perk not in self.active_perks:\n",
    "            raise ValueError(\"Этот перк не найден в списке активных\")\n",
    "        \n",
    "        self.active_perks.remove(perk)\n",
    "        self.can_used_perks.append(perk)\n",
    "        perk.remove_effect(self)  # Отменяем эффект перка\n",
    "        print(f\"Перк '{perk.get_name()}' деактивирован\")\n",
    "\n",
    "    def get_use_perk(self):\n",
    "        \"\"\"Возвращает список доступных перков\"\"\"\n",
    "        return self.can_used_perks\n",
    "\n",
    "    def get_active_perks(self):\n",
    "        \"\"\"Возвращает список активных перков\"\"\"\n",
    "        return self.active_perks\n",
    "\n",
    "\n",
    "class Perk:\n",
    "    def __init__(self):\n",
    "        self._name = \"\"\n",
    "        self._description = \"\"\n",
    "        self._effect_param = None\n",
    "        self._effect_value = 0\n",
    "        self._is_percent = False\n",
    "        self._effect_type = \"add\"  # или \"multiply\" для мультипликативных эффектов\n",
    "\n",
    "    def name(self, name):\n",
    "        self._name = name\n",
    "        return self  # Возвращаем self для возможности цепочки вызовов\n",
    "\n",
    "    def description(self, description):\n",
    "        self._description = description\n",
    "        return self\n",
    "\n",
    "    def get_name(self):\n",
    "        return self._name\n",
    "    \n",
    "    def get_description(self):\n",
    "        return self._description\n",
    "    \n",
    "    def effect(self, param_name, effect_type, value, is_percent=True):\n",
    "        \"\"\"Устанавливает эффект перка\"\"\"\n",
    "        self._effect_param = param_name\n",
    "        self._effect_value = value\n",
    "        self._is_percent = is_percent\n",
    "        self._effect_type = effect_type\n",
    "        return self\n",
    "\n",
    "    def apply_effect(self, personage):\n",
    "        \"\"\"Применяет эффект перка к персонажу через change_param\"\"\"\n",
    "        print(f\"Эффект перка '{self._name}' применяется к параметру {self._effect_param}\")\n",
    "        if not self._effect_param:\n",
    "            return\n",
    "\n",
    "        if self._effect_type == \"add\":\n",
    "            if self._is_percent:\n",
    "                personage.change_param(self._effect_param, percent=self._effect_value*100)\n",
    "            else:\n",
    "                personage.change_param(self._effect_param, value=self._effect_value)\n",
    "        elif self._effect_type == \"multiply\":\n",
    "            # Для мультипликативного эффекта используем процентное изменение\n",
    "            personage.change_param(self._effect_param, percent=(self._effect_value-1)*100)\n",
    "\n",
    "\n",
    "    def remove_effect(self, personage):\n",
    "        \"\"\"Отменяет эффект перка, возвращая параметр к исходному значению\"\"\"\n",
    "        print(f\"Эффект перка '{self._name}' отменяется для параметра {self._effect_param}\")\n",
    "        if not self._effect_param:\n",
    "            return\n",
    "\n",
    "        if self._effect_type == \"add\":\n",
    "            if self._is_percent:\n",
    "                personage.change_param(self._effect_param, percent=-self._effect_value*100)\n",
    "            else:\n",
    "                personage.change_param(self._effect_param, value=-self._effect_value)\n",
    "        elif self._effect_type == \"multiply\":\n",
    "            # Для мультипликативного эффекта используем процентное изменение\n",
    "            personage.change_param(self._effect_param, percent=-(self._effect_value-1)*100)\n"
   ]
  },
  {
   "cell_type": "code",
   "execution_count": 46,
   "metadata": {},
   "outputs": [],
   "source": [
    "person = Personage('Катя')"
   ]
  },
  {
   "cell_type": "code",
   "execution_count": 47,
   "metadata": {},
   "outputs": [
    {
     "name": "stdout",
     "output_type": "stream",
     "text": [
      "Катя\n",
      "100\n"
     ]
    }
   ],
   "source": [
    "print(person.name)\n",
    "print(person.hp)"
   ]
  },
  {
   "cell_type": "code",
   "execution_count": 48,
   "metadata": {},
   "outputs": [
    {
     "name": "stdout",
     "output_type": "stream",
     "text": [
      "Перк 'Повышение здоровья 1' добавлен в список доступных\n",
      "[<__main__.Perk object at 0x000001AC444ADD80>]\n",
      "[]\n"
     ]
    }
   ],
   "source": [
    "perk = Perk()\n",
    "perk.name('Повышение здоровья 1').description('Выше здоровье повышено на 5%').effect('hp', 'add', 0.05, True)\n",
    "person.add_perk(perk)\n",
    "print(person.get_use_perk())\n",
    "print(person.get_active_perks())"
   ]
  },
  {
   "cell_type": "code",
   "execution_count": 49,
   "metadata": {},
   "outputs": [
    {
     "name": "stdout",
     "output_type": "stream",
     "text": [
      "Эффект перка 'Повышение здоровья 1' применяется к параметру hp\n",
      "Параметр hp обновлён с 100 на 105.0\n",
      "Перк 'Повышение здоровья 1' активирован\n"
     ]
    }
   ],
   "source": [
    "person.activate(perk)"
   ]
  },
  {
   "cell_type": "code",
   "execution_count": 50,
   "metadata": {},
   "outputs": [
    {
     "data": {
      "text/plain": [
       "105.0"
      ]
     },
     "execution_count": 50,
     "metadata": {},
     "output_type": "execute_result"
    }
   ],
   "source": [
    "person.hp"
   ]
  },
  {
   "cell_type": "code",
   "execution_count": null,
   "metadata": {},
   "outputs": [],
   "source": []
  }
 ],
 "metadata": {
  "kernelspec": {
   "display_name": "Python 3",
   "language": "python",
   "name": "python3"
  },
  "language_info": {
   "codemirror_mode": {
    "name": "ipython",
    "version": 3
   },
   "file_extension": ".py",
   "mimetype": "text/x-python",
   "name": "python",
   "nbconvert_exporter": "python",
   "pygments_lexer": "ipython3",
   "version": "3.10.16"
  }
 },
 "nbformat": 4,
 "nbformat_minor": 2
}
